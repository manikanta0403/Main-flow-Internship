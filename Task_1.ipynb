{
  "nbformat": 4,
  "nbformat_minor": 0,
  "metadata": {
    "colab": {
      "provenance": [],
      "authorship_tag": "ABX9TyMTUCxqzrv7R8UxmWMv33cs",
      "include_colab_link": true
    },
    "kernelspec": {
      "name": "python3",
      "display_name": "Python 3"
    },
    "language_info": {
      "name": "python"
    }
  },
  "cells": [
    {
      "cell_type": "markdown",
      "metadata": {
        "id": "view-in-github",
        "colab_type": "text"
      },
      "source": [
        "<a href=\"https://colab.research.google.com/github/manikanta0403/TASK-1/blob/main/Task_1.ipynb\" target=\"_parent\"><img src=\"https://colab.research.google.com/assets/colab-badge.svg\" alt=\"Open In Colab\"/></a>"
      ]
    },
    {
      "cell_type": "code",
      "execution_count": 1,
      "metadata": {
        "colab": {
          "base_uri": "https://localhost:8080/"
        },
        "id": "2oit2-2gNAF9",
        "outputId": "3f7ea44b-9471-41cf-e606-ef37fe63c549"
      },
      "outputs": [
        {
          "output_type": "stream",
          "name": "stdout",
          "text": [
            "Original list: [1, 2, 3, 4, 5]\n",
            "List after adding an element: [1, 2, 3, 4, 5, 6]\n",
            "List after removing an element: [1, 3, 4, 5, 6]\n",
            "List after modifying an element: [1, 3, 10, 5, 6]\n",
            "\n",
            "Original dictionary: {'a': 1, 'b': 2, 'c': 3}\n",
            "Dictionary after adding a key-value pair: {'a': 1, 'b': 2, 'c': 3, 'd': 4}\n",
            "Dictionary after removing a key-value pair: {'a': 1, 'c': 3, 'd': 4}\n",
            "Dictionary after modifying a value: {'a': 1, 'c': 30, 'd': 4}\n",
            "\n",
            "Original set: {1, 2, 3, 4, 5}\n",
            "Set after adding an element: {1, 2, 3, 4, 5, 6}\n",
            "Set after removing an element: {1, 3, 4, 5, 6}\n",
            "Is 3 in the set? True\n"
          ]
        }
      ],
      "source": [
        "# Creating a list\n",
        "my_list = [1, 2, 3, 4, 5]\n",
        "print(\"Original list:\", my_list)\n",
        "\n",
        "# Adding an element to the list\n",
        "my_list.append(6)\n",
        "print(\"List after adding an element:\", my_list)\n",
        "\n",
        "# Removing an element from the list\n",
        "my_list.remove(2)\n",
        "print(\"List after removing an element:\", my_list)\n",
        "\n",
        "# Modifying an element in the list\n",
        "my_list[2] = 10\n",
        "print(\"List after modifying an element:\", my_list)\n",
        "\n",
        "# Creating a dictionary\n",
        "my_dict = {'a': 1, 'b': 2, 'c': 3}\n",
        "print(\"\\nOriginal dictionary:\", my_dict)\n",
        "\n",
        "# Adding a key-value pair to the dictionary\n",
        "my_dict['d'] = 4\n",
        "print(\"Dictionary after adding a key-value pair:\", my_dict)\n",
        "\n",
        "# Removing a key-value pair from the dictionary\n",
        "del my_dict['b']\n",
        "print(\"Dictionary after removing a key-value pair:\", my_dict)\n",
        "\n",
        "# Modifying a value in the dictionary\n",
        "my_dict['c'] = 30\n",
        "print(\"Dictionary after modifying a value:\", my_dict)\n",
        "\n",
        "# Creating a set\n",
        "my_set = {1, 2, 3, 4, 5}\n",
        "print(\"\\nOriginal set:\", my_set)\n",
        "\n",
        "# Adding an element to the set\n",
        "my_set.add(6)\n",
        "print(\"Set after adding an element:\", my_set)\n",
        "\n",
        "# Removing an element from the set\n",
        "my_set.remove(2)\n",
        "print(\"Set after removing an element:\", my_set)\n",
        "\n",
        "# Since sets do not support indexing, we'll just add another example operation\n",
        "# Checking if an element is in the set\n",
        "print(\"Is 3 in the set?\", 3 in my_set)\n"
      ]
    }
  ]
}