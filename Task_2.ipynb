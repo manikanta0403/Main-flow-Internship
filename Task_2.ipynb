{
  "nbformat": 4,
  "nbformat_minor": 0,
  "metadata": {
    "colab": {
      "provenance": [],
      "authorship_tag": "ABX9TyOl3BB57/o6WngDpgRlg3VG",
      "include_colab_link": true
    },
    "kernelspec": {
      "name": "python3",
      "display_name": "Python 3"
    },
    "language_info": {
      "name": "python"
    }
  },
  "cells": [
    {
      "cell_type": "markdown",
      "metadata": {
        "id": "view-in-github",
        "colab_type": "text"
      },
      "source": [
        "<a href=\"https://colab.research.google.com/github/manikanta0403/Main-flow-Internship/blob/main/Task_2.ipynb\" target=\"_parent\"><img src=\"https://colab.research.google.com/assets/colab-badge.svg\" alt=\"Open In Colab\"/></a>"
      ]
    },
    {
      "cell_type": "markdown",
      "source": [
        "Task - 02"
      ],
      "metadata": {
        "id": "fG4XBI2ZcwcE"
      }
    },
    {
      "cell_type": "code",
      "execution_count": 1,
      "metadata": {
        "id": "rx6gtIoQcu6t"
      },
      "outputs": [],
      "source": [
        "sample_data = \"\"\"name,age,city,salary\n",
        "Alice,34,New York,70000\n",
        "Bob,28,San Francisco,80000\n",
        "Charlie,NaN,Los Angeles,NaN\n",
        "David,45,New York,90000\n",
        "Eva,NaN,San Francisco,NaN\n",
        "Frank,30,Los Angeles,60000\n",
        "Grace,40,New York,100000\n",
        "\"\"\"\n",
        "\n",
        "with open('sample_data.csv', 'w') as file:\n",
        "    file.write(sample_data)\n"
      ]
    },
    {
      "cell_type": "code",
      "source": [
        "import pandas as pd\n",
        "\n",
        "# Step 1: Load data into a DataFrame\n",
        "df = pd.read_csv('sample_data.csv')"
      ],
      "metadata": {
        "id": "uo5hcOToeYQM"
      },
      "execution_count": 5,
      "outputs": []
    },
    {
      "cell_type": "code",
      "source": [
        "print(\"Initial DataFrame:\")\n",
        "print(df.head())"
      ],
      "metadata": {
        "colab": {
          "base_uri": "https://localhost:8080/"
        },
        "id": "biC_8J0wdyA3",
        "outputId": "4202bde6-becd-486e-c1b3-dd4c8572b614"
      },
      "execution_count": 7,
      "outputs": [
        {
          "output_type": "stream",
          "name": "stdout",
          "text": [
            "Initial DataFrame:\n",
            "      name   age           city   salary\n",
            "0    Alice  34.0       New York  70000.0\n",
            "1      Bob  28.0  San Francisco  80000.0\n",
            "2  Charlie   NaN    Los Angeles      NaN\n",
            "3    David  45.0       New York  90000.0\n",
            "4      Eva   NaN  San Francisco      NaN\n"
          ]
        }
      ]
    },
    {
      "cell_type": "code",
      "source": [
        "# Step 2: Filter data based on conditions\n",
        "filtered_df = df[df['age'] > 30]\n",
        "print(\"Filtered DataFrame (age > 30):\")\n",
        "print(filtered_df)"
      ],
      "metadata": {
        "colab": {
          "base_uri": "https://localhost:8080/"
        },
        "id": "-RdLiuD2d7ex",
        "outputId": "5bd91538-c18c-4a1f-93b5-99c2e8aba008"
      },
      "execution_count": 8,
      "outputs": [
        {
          "output_type": "stream",
          "name": "stdout",
          "text": [
            "Filtered DataFrame (age > 30):\n",
            "    name   age      city    salary\n",
            "0  Alice  34.0  New York   70000.0\n",
            "3  David  45.0  New York   90000.0\n",
            "6  Grace  40.0  New York  100000.0\n"
          ]
        }
      ]
    },
    {
      "cell_type": "code",
      "source": [
        "# Step 3: Handle missing values\n",
        "# Fill missing values with 0\n",
        "df_filled = df.fillna(0)\n",
        "print(\"DataFrame with missing values filled:\")\n",
        "print(df_filled)"
      ],
      "metadata": {
        "colab": {
          "base_uri": "https://localhost:8080/"
        },
        "id": "wacSqiVsej8V",
        "outputId": "8190ffd4-918c-4032-d7c9-98ded41c3321"
      },
      "execution_count": 9,
      "outputs": [
        {
          "output_type": "stream",
          "name": "stdout",
          "text": [
            "DataFrame with missing values filled:\n",
            "      name   age           city    salary\n",
            "0    Alice  34.0       New York   70000.0\n",
            "1      Bob  28.0  San Francisco   80000.0\n",
            "2  Charlie   0.0    Los Angeles       0.0\n",
            "3    David  45.0       New York   90000.0\n",
            "4      Eva   0.0  San Francisco       0.0\n",
            "5    Frank  30.0    Los Angeles   60000.0\n",
            "6    Grace  40.0       New York  100000.0\n"
          ]
        }
      ]
    },
    {
      "cell_type": "code",
      "source": [
        "# Drop rows with any missing values\n",
        "df_dropped_rows = df.dropna()\n",
        "print(\"DataFrame with rows with missing values dropped:\")\n",
        "print(df_dropped_rows)"
      ],
      "metadata": {
        "colab": {
          "base_uri": "https://localhost:8080/"
        },
        "id": "gtn_avSVelZ4",
        "outputId": "1fb54e40-77f5-489d-c37b-96977fc7ec52"
      },
      "execution_count": 10,
      "outputs": [
        {
          "output_type": "stream",
          "name": "stdout",
          "text": [
            "DataFrame with rows with missing values dropped:\n",
            "    name   age           city    salary\n",
            "0  Alice  34.0       New York   70000.0\n",
            "1    Bob  28.0  San Francisco   80000.0\n",
            "3  David  45.0       New York   90000.0\n",
            "5  Frank  30.0    Los Angeles   60000.0\n",
            "6  Grace  40.0       New York  100000.0\n"
          ]
        }
      ]
    },
    {
      "cell_type": "code",
      "source": [
        "# Drop columns with any missing values\n",
        "df_dropped_columns = df.dropna(axis=1)\n",
        "print(\"DataFrame with columns with missing values dropped:\")\n",
        "print(df_dropped_columns)"
      ],
      "metadata": {
        "colab": {
          "base_uri": "https://localhost:8080/"
        },
        "id": "JcgPrcxMepZs",
        "outputId": "f60a69a1-2657-42ed-adb8-b50fbf4e9484"
      },
      "execution_count": 11,
      "outputs": [
        {
          "output_type": "stream",
          "name": "stdout",
          "text": [
            "DataFrame with columns with missing values dropped:\n",
            "      name           city\n",
            "0    Alice       New York\n",
            "1      Bob  San Francisco\n",
            "2  Charlie    Los Angeles\n",
            "3    David       New York\n",
            "4      Eva  San Francisco\n",
            "5    Frank    Los Angeles\n",
            "6    Grace       New York\n"
          ]
        }
      ]
    },
    {
      "cell_type": "code",
      "source": [
        "# Step 4: Calculate summary statistics\n",
        "summary_stats = df.describe()\n",
        "print(\"Summary statistics for all numeric columns:\")\n",
        "print(summary_stats)\n",
        "\n",
        "age_stats = df['age'].describe()\n",
        "print(\"Summary statistics for 'age' column:\")\n",
        "print(age_stats)\n",
        "\n",
        "mean_age = df['age'].mean()\n",
        "median_age = df['age'].median()\n",
        "mode_age = df['age'].mode()\n",
        "\n",
        "print(f\"Mean age: {mean_age}\")\n",
        "print(f\"Median age: {median_age}\")\n",
        "print(f\"Mode age: {mode_age[0]}\")"
      ],
      "metadata": {
        "colab": {
          "base_uri": "https://localhost:8080/"
        },
        "id": "leyEjaI-evGu",
        "outputId": "bd7f3846-0c4d-4257-8b89-ff0d231c0bd8"
      },
      "execution_count": 12,
      "outputs": [
        {
          "output_type": "stream",
          "name": "stdout",
          "text": [
            "Summary statistics for all numeric columns:\n",
            "             age         salary\n",
            "count   5.000000       5.000000\n",
            "mean   35.400000   80000.000000\n",
            "std     7.056912   15811.388301\n",
            "min    28.000000   60000.000000\n",
            "25%    30.000000   70000.000000\n",
            "50%    34.000000   80000.000000\n",
            "75%    40.000000   90000.000000\n",
            "max    45.000000  100000.000000\n",
            "Summary statistics for 'age' column:\n",
            "count     5.000000\n",
            "mean     35.400000\n",
            "std       7.056912\n",
            "min      28.000000\n",
            "25%      30.000000\n",
            "50%      34.000000\n",
            "75%      40.000000\n",
            "max      45.000000\n",
            "Name: age, dtype: float64\n",
            "Mean age: 35.4\n",
            "Median age: 34.0\n",
            "Mode age: 28.0\n"
          ]
        }
      ]
    }
  ]
}